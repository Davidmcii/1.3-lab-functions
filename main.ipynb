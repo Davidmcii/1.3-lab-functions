{
 "cells": [
  {
   "cell_type": "markdown",
   "metadata": {
    "toc": true
   },
   "source": [
    "<h1>Table of Contents<span class=\"tocSkip\"></span></h1>\n",
    "<div class=\"toc\"><ul class=\"toc-item\"><li><span><a href=\"#Functions\" data-toc-modified-id=\"Functions-1\"><span class=\"toc-item-num\">1&nbsp;&nbsp;</span>Functions</a></span><ul class=\"toc-item\"><li><span><a href=\"#1.-Write-a-function-that-returns-the-greater-of-two-numbers\" data-toc-modified-id=\"1.-Write-a-function-that-returns-the-greater-of-two-numbers-1.1\"><span class=\"toc-item-num\">1.1&nbsp;&nbsp;</span>1. Write a function that returns the greater of two numbers</a></span></li><li><span><a href=\"#2.-Now-write-a-function-that-returns-the-largest-element-on-a-list\" data-toc-modified-id=\"2.-Now-write-a-function-that-returns-the-largest-element-on-a-list-1.2\"><span class=\"toc-item-num\">1.2&nbsp;&nbsp;</span>2. Now write a function that returns the largest element on a list</a></span></li><li><span><a href=\"#3.-Write-a-function-that-sums-all-the-elements-on-a-list\" data-toc-modified-id=\"3.-Write-a-function-that-sums-all-the-elements-on-a-list-1.3\"><span class=\"toc-item-num\">1.3&nbsp;&nbsp;</span>3. Write a function that sums all the elements on a list</a></span></li><li><span><a href=\"#4.-Write-another-function-that-multiplies-all-the-elements-on-a-list\" data-toc-modified-id=\"4.-Write-another-function-that-multiplies-all-the-elements-on-a-list-1.4\"><span class=\"toc-item-num\">1.4&nbsp;&nbsp;</span>4. Write another function that multiplies all the elements on a list</a></span></li><li><span><a href=\"#5.-Now-combine-those-two-ideas-and-write-a-function-that-receives-a-list-and-either-&quot;+&quot;-or-&quot;*&quot;-and-outputs-acordingly\" data-toc-modified-id=\"5.-Now-combine-those-two-ideas-and-write-a-function-that-receives-a-list-and-either-&quot;+&quot;-or-&quot;*&quot;-and-outputs-acordingly-1.5\"><span class=\"toc-item-num\">1.5&nbsp;&nbsp;</span>5. Now combine those two ideas and write a function that receives a list and either \"+\" or \"*\" and outputs acordingly</a></span></li><li><span><a href=\"#6.-Write-a-function-that-returns-the-factorial-of-a-number.\" data-toc-modified-id=\"6.-Write-a-function-that-returns-the-factorial-of-a-number.-1.6\"><span class=\"toc-item-num\">1.6&nbsp;&nbsp;</span>6. Write a function that returns the factorial of a number.</a></span></li><li><span><a href=\"#7.-Write-a-function-that-takes-a-list-and-returns-a-list-of-the-unique-values.\" data-toc-modified-id=\"7.-Write-a-function-that-takes-a-list-and-returns-a-list-of-the-unique-values.-1.7\"><span class=\"toc-item-num\">1.7&nbsp;&nbsp;</span>7. Write a function that takes a list and returns a list of the unique values.</a></span></li><li><span><a href=\"#8.-Write-a-function-that-returns-the-mode-of-a-list,-i.e.:-the-element-that-appears-the-most-times.\" data-toc-modified-id=\"8.-Write-a-function-that-returns-the-mode-of-a-list,-i.e.:-the-element-that-appears-the-most-times.-1.8\"><span class=\"toc-item-num\">1.8&nbsp;&nbsp;</span>8. Write a function that returns the mode of a list, i.e.: the element that appears the most times.</a></span></li><li><span><a href=\"#9.-Write-a-function-that-calculates-the-standard-deviation-of-a-list.\" data-toc-modified-id=\"9.-Write-a-function-that-calculates-the-standard-deviation-of-a-list.-1.9\"><span class=\"toc-item-num\">1.9&nbsp;&nbsp;</span>9. Write a function that calculates the standard deviation of a list.</a></span></li><li><span><a href=\"#10.-Write-a-function-to-check-if-a-string-is-a-pangram,-i.e.:-if-it-contains-all-the-letters-of-the-alphabet-at-least-once.-Mind-that-the-strings-may-contain-characters-that-are-not-letters.\" data-toc-modified-id=\"10.-Write-a-function-to-check-if-a-string-is-a-pangram,-i.e.:-if-it-contains-all-the-letters-of-the-alphabet-at-least-once.-Mind-that-the-strings-may-contain-characters-that-are-not-letters.-1.10\"><span class=\"toc-item-num\">1.10&nbsp;&nbsp;</span>10. Write a function to check if a string is a pangram, i.e.: if it contains all the letters of the alphabet at least once. Mind that the strings may contain characters that are not letters.</a></span></li><li><span><a href=\"#11.-Write-a-function-that-receives-a-string-of-comma-separated-words-and-returns-a-string-of-comma-separated-words-sorted-alphabetically.\" data-toc-modified-id=\"11.-Write-a-function-that-receives-a-string-of-comma-separated-words-and-returns-a-string-of-comma-separated-words-sorted-alphabetically.-1.11\"><span class=\"toc-item-num\">1.11&nbsp;&nbsp;</span>11. Write a function that receives a string of comma separated words and returns a string of comma separated words sorted alphabetically.</a></span></li><li><span><a href=\"#12.-Write-a-function-to-check-if-a-given-password-is-strong-(at-least-8-characters,-at-least-one-lower-case,-at-least-one-upper-case,-at-least-one-number-and-at-least-one-special-character).-It-should-output-True-if-strong-and-False-if-not.\" data-toc-modified-id=\"12.-Write-a-function-to-check-if-a-given-password-is-strong-(at-least-8-characters,-at-least-one-lower-case,-at-least-one-upper-case,-at-least-one-number-and-at-least-one-special-character).-It-should-output-True-if-strong-and-False-if-not.-1.12\"><span class=\"toc-item-num\">1.12&nbsp;&nbsp;</span>12. Write a function to check if a given password is strong (at least 8 characters, at least one lower case, at least one upper case, at least one number and at least one special character). It should output True if strong and False if not.</a></span></li></ul></li></ul></div>"
   ]
  },
  {
   "cell_type": "markdown",
   "metadata": {},
   "source": [
    "# Functions"
   ]
  },
  {
   "cell_type": "markdown",
   "metadata": {},
   "source": [
    "On this lab we will put to practice some of the concepts we have learned on this past few days.\n",
    "\n",
    "`NOTE: On this lab you should try to write all the functions yourself using only the most basic of python syntax and without functions such as len, count, sum, max, min, in, etc. Give it a try. 🧑🏻‍💻👩🏻‍💻`\n",
    "\n",
    "The cell after each exercise contains a few tests to check if your function works as expected."
   ]
  },
  {
   "cell_type": "code",
   "execution_count": 3,
   "metadata": {},
   "outputs": [],
   "source": [
    "#Run this cell\n",
    "\n",
    "from mod.testing import *\n",
    "import unittest"
   ]
  },
  {
   "cell_type": "markdown",
   "metadata": {},
   "source": [
    "## 1. Write a function that returns the greater of two numbers"
   ]
  },
  {
   "cell_type": "code",
   "execution_count": 83,
   "metadata": {},
   "outputs": [],
   "source": [
    "def greater(a,b):\n",
    "    c=b\n",
    "    if a>b:\n",
    "        c=a\n",
    "\n",
    "    return c"
   ]
  },
  {
   "cell_type": "code",
   "execution_count": 84,
   "metadata": {},
   "outputs": [
    {
     "name": "stderr",
     "output_type": "stream",
     "text": [
      "....................................................................................................\n",
      "----------------------------------------------------------------------\n",
      "Ran 100 tests in 0.091s\n",
      "\n",
      "OK\n"
     ]
    }
   ],
   "source": [
    "# This will test your function \n",
    "test_greater(greater)"
   ]
  },
  {
   "cell_type": "markdown",
   "metadata": {},
   "source": [
    "## 2. Now write a function that returns the largest element on a list"
   ]
  },
  {
   "cell_type": "code",
   "execution_count": 85,
   "metadata": {},
   "outputs": [],
   "source": [
    "def greatest(args):\n",
    "\n",
    "    val=0\n",
    "    val_list=0\n",
    "  \n",
    "    for x in range(len(args)):\n",
    "        val_list=args[x]\n",
    "\n",
    "        if val_list>val:\n",
    "\n",
    "            val=val_list\n",
    "   \n",
    "    return val\n",
    "           \n"
   ]
  },
  {
   "cell_type": "code",
   "execution_count": 86,
   "metadata": {},
   "outputs": [
    {
     "name": "stderr",
     "output_type": "stream",
     "text": [
      "....................................................................................................\n",
      "----------------------------------------------------------------------\n",
      "Ran 100 tests in 0.110s\n",
      "\n",
      "OK\n"
     ]
    }
   ],
   "source": [
    "# This will test your function \n",
    "\n",
    "test_greatest(greatest)"
   ]
  },
  {
   "cell_type": "markdown",
   "metadata": {},
   "source": [
    "## 3. Write a function that sums all the elements on a list"
   ]
  },
  {
   "cell_type": "code",
   "execution_count": 87,
   "metadata": {},
   "outputs": [],
   "source": [
    "def sum_all(args):\n",
    "\n",
    "    res=0\n",
    " \n",
    "    for x in range(len(args)):\n",
    "        \n",
    "        res+=args[x]\n",
    "\n",
    "\n",
    "    return res\n",
    "\n",
    "    "
   ]
  },
  {
   "cell_type": "code",
   "execution_count": 88,
   "metadata": {},
   "outputs": [
    {
     "name": "stderr",
     "output_type": "stream",
     "text": [
      "....................................................................................................\n",
      "----------------------------------------------------------------------\n",
      "Ran 100 tests in 0.096s\n",
      "\n",
      "OK\n"
     ]
    }
   ],
   "source": [
    "# This will test your function \n",
    "test_sum(sum_all)"
   ]
  },
  {
   "cell_type": "markdown",
   "metadata": {},
   "source": [
    "## 4. Write another function that multiplies all the elements on a list"
   ]
  },
  {
   "cell_type": "code",
   "execution_count": 89,
   "metadata": {},
   "outputs": [],
   "source": [
    "def mult_all(args):\n",
    "\n",
    "    res=1\n",
    " \n",
    "\n",
    "    for x in range(len(args)):\n",
    "        \n",
    "        res=args[x]*res\n",
    "    \n",
    "    return res\n",
    "\n"
   ]
  },
  {
   "cell_type": "code",
   "execution_count": 90,
   "metadata": {},
   "outputs": [
    {
     "name": "stderr",
     "output_type": "stream",
     "text": [
      "....................................................................................................\n",
      "----------------------------------------------------------------------\n",
      "Ran 100 tests in 0.116s\n",
      "\n",
      "OK\n"
     ]
    }
   ],
   "source": [
    "# This will test your function \n",
    "test_mult(mult_all)"
   ]
  },
  {
   "cell_type": "markdown",
   "metadata": {},
   "source": [
    "## 5. Now combine those two ideas and write a function that receives a list and either \"+\" or \"*\" and outputs acordingly"
   ]
  },
  {
   "cell_type": "code",
   "execution_count": 92,
   "metadata": {},
   "outputs": [],
   "source": [
    "def oper_all(args, oper):\n",
    "\n",
    "\n",
    "    if oper=='*':\n",
    "\n",
    "        res=1\n",
    " \n",
    "        for x in range(len(args)):\n",
    "            \n",
    "            res=args[x]*res\n",
    "    \n",
    "    elif oper=='+':\n",
    "\n",
    "        res=0\n",
    "    \n",
    "        for x in range(len(args)):\n",
    "            \n",
    "            res+=args[x]\n",
    "\n",
    "\n",
    "    return res\n"
   ]
  },
  {
   "cell_type": "code",
   "execution_count": 93,
   "metadata": {},
   "outputs": [
    {
     "name": "stderr",
     "output_type": "stream",
     "text": [
      "....................................................................................................\n",
      "----------------------------------------------------------------------\n",
      "Ran 100 tests in 0.117s\n",
      "\n",
      "OK\n"
     ]
    }
   ],
   "source": [
    "# This will test your function \n",
    "test_operations(oper_all)"
   ]
  },
  {
   "cell_type": "markdown",
   "metadata": {},
   "source": [
    "## 6. Write a function that returns the factorial of a number."
   ]
  },
  {
   "cell_type": "code",
   "execution_count": 94,
   "metadata": {},
   "outputs": [],
   "source": [
    "def factorial(n):\n",
    "\n",
    "\n",
    "    res=1\n",
    "\n",
    "    for x in range(n):\n",
    "        \n",
    "        res=(x+1)*res\n",
    "    \n",
    "    return res"
   ]
  },
  {
   "cell_type": "code",
   "execution_count": 95,
   "metadata": {},
   "outputs": [
    {
     "name": "stderr",
     "output_type": "stream",
     "text": [
      "....................................................................................................\n",
      "----------------------------------------------------------------------\n",
      "Ran 100 tests in 0.099s\n",
      "\n",
      "OK\n"
     ]
    }
   ],
   "source": [
    "# This will test your function \n",
    "test_factorial(factorial)"
   ]
  },
  {
   "cell_type": "markdown",
   "metadata": {},
   "source": [
    "## 7. Write a function that takes a list and returns a list of the unique values.\n",
    "\n",
    "`NOTE: You cannot use set. 🤔`"
   ]
  },
  {
   "cell_type": "code",
   "execution_count": 96,
   "metadata": {},
   "outputs": [],
   "source": [
    "def unique(arr):\n",
    "\n",
    "    list1=[]\n",
    "    test=0\n",
    "    \n",
    "    for x in range(len(arr)):\n",
    "        test=arr[x]\n",
    "\n",
    "        if not test in list1:\n",
    "            \n",
    "            list1.append(test)\n",
    "\n",
    "    return list1\n",
    "\n",
    "\n"
   ]
  },
  {
   "cell_type": "code",
   "execution_count": 97,
   "metadata": {},
   "outputs": [
    {
     "name": "stderr",
     "output_type": "stream",
     "text": [
      "....................................................................................................\n",
      "----------------------------------------------------------------------\n",
      "Ran 100 tests in 0.188s\n",
      "\n",
      "OK\n"
     ]
    }
   ],
   "source": [
    "# This will test your function \n",
    "test_unique(unique)"
   ]
  },
  {
   "cell_type": "markdown",
   "metadata": {},
   "source": [
    "## 8. Write a function that returns the mode of a list, i.e.: the element that appears the most times.\n",
    "`NOTE: You should not use count... 🧐`"
   ]
  },
  {
   "cell_type": "code",
   "execution_count": 100,
   "metadata": {},
   "outputs": [],
   "source": [
    "def mode_counter(arr):\n",
    "\n",
    "    list1=[]\n",
    "    test=0\n",
    "    cont=0\n",
    "    max=0\n",
    "    poss=0\n",
    "    \n",
    "    for x in range(len(arr)):\n",
    "        \n",
    "        test=arr[x]\n",
    "\n",
    "        cont=0\n",
    "\n",
    "        for y in range(x):\n",
    "\n",
    "            if test==arr[y]:\n",
    "                cont+=1\n",
    "\n",
    "        list1.append(cont)\n",
    "\n",
    "    \n",
    "   \n",
    "    max=greatest(list1)\n",
    "\n",
    "    #print(max)\n",
    "\n",
    "    poss=list1.index(max)\n",
    "\n",
    "    test=arr[poss]\n",
    "\n",
    "    return test\n"
   ]
  },
  {
   "cell_type": "code",
   "execution_count": 99,
   "metadata": {},
   "outputs": [
    {
     "name": "stderr",
     "output_type": "stream",
     "text": [
      "..........................................................................................."
     ]
    },
    {
     "name": "stdout",
     "output_type": "stream",
     "text": [
      "50\n",
      "50\n",
      "57\n",
      "58\n",
      "53\n",
      "54\n",
      "51\n",
      "54\n",
      "57\n",
      "51\n",
      "51\n",
      "50\n",
      "51\n",
      "53\n",
      "50\n",
      "57\n",
      "52\n",
      "55\n",
      "56\n",
      "50\n",
      "56\n",
      "55\n",
      "52\n",
      "57\n",
      "53\n",
      "55\n",
      "52\n",
      "54\n",
      "52\n",
      "55\n",
      "57\n",
      "56\n",
      "55\n",
      "50\n",
      "56\n",
      "52\n",
      "52\n",
      "53\n",
      "55\n",
      "53\n",
      "60\n",
      "57\n",
      "54\n",
      "52\n",
      "51\n",
      "53\n",
      "53\n",
      "56\n",
      "54\n",
      "54\n",
      "51\n",
      "54\n",
      "56\n",
      "58\n",
      "54\n",
      "50\n",
      "55\n",
      "56\n",
      "54\n",
      "57\n",
      "56\n",
      "56\n",
      "52\n",
      "53\n",
      "54\n",
      "53\n",
      "52\n",
      "51\n",
      "54\n",
      "53\n",
      "55\n",
      "53\n",
      "55\n",
      "57\n",
      "55\n",
      "57\n",
      "52\n",
      "54\n",
      "50\n",
      "55\n",
      "55\n",
      "51\n",
      "50\n",
      "53\n",
      "53\n",
      "54\n",
      "53\n",
      "50\n",
      "53\n",
      "55\n",
      "53\n",
      "53"
     ]
    },
    {
     "name": "stderr",
     "output_type": "stream",
     "text": [
      ".........\n",
      "----------------------------------------------------------------------\n",
      "Ran 100 tests in 0.197s\n",
      "\n",
      "OK\n"
     ]
    },
    {
     "name": "stdout",
     "output_type": "stream",
     "text": [
      "\n",
      "51\n",
      "52\n",
      "57\n",
      "51\n",
      "52\n",
      "52\n",
      "52\n",
      "52\n"
     ]
    }
   ],
   "source": [
    "# This will test your function \n",
    "test_mode(mode_counter)"
   ]
  },
  {
   "cell_type": "markdown",
   "metadata": {},
   "source": [
    "## 9. Write a function that calculates the standard deviation of a list.\n",
    "`NOTE: Do not use any libraries or already built functions. 😉`"
   ]
  },
  {
   "cell_type": "code",
   "execution_count": 101,
   "metadata": {},
   "outputs": [],
   "source": [
    "def st_dev(arr):\n",
    "    \n",
    "    ''' \n",
    "    Step 1: Compute the mean\n",
    "    Step 2: Subtract the mean from each individual observation. This is called deviation \n",
    "    Step 3: Take the square of these deviations. These are called squared deviations \n",
    "    Step 4: Add all the squared deviations. This is called sum of squares \n",
    "    Step 5: Divide the sum of squares by (n-1) where `n` is the number of observations. This is called variance \n",
    "    Step 6: Take the square root of variance. This is called standard deviation \n",
    "   \n",
    "    '''\n",
    "\n",
    "    list1=[]\n",
    "    mean=0\n",
    "    sum_squares=0\n",
    "    variance=0\n",
    "    std_dev=0\n",
    "\n",
    "    for i in range(len(arr)):\n",
    "\n",
    "        mean= arr[i]+mean\n",
    "    \n",
    "    mean=mean/(len(arr))\n",
    "\n",
    "    print(mean)\n",
    "\n",
    "    for i in range(len(arr)):\n",
    "\n",
    "        list1.append(arr[i]-mean)\n",
    "\n",
    "        \n",
    "    for i in range (len(arr)):\n",
    "\n",
    "        list1[i]=list1[i]**2\n",
    "\n",
    "        sum_squares=list1[i]+sum_squares\n",
    "    \n",
    "    variance= sum_squares/(len(arr)-1)\n",
    "\n",
    "    std_dev=variance**0.5\n",
    "  \n",
    "    return std_dev"
   ]
  },
  {
   "cell_type": "code",
   "execution_count": 102,
   "metadata": {},
   "outputs": [
    {
     "name": "stderr",
     "output_type": "stream",
     "text": [
      "....................................................................................................\n",
      "----------------------------------------------------------------------\n",
      "Ran 100 tests in 0.148s\n",
      "\n",
      "OK\n"
     ]
    },
    {
     "name": "stdout",
     "output_type": "stream",
     "text": [
      "-78.24\n",
      "6.15\n",
      "-8.476190476190476\n",
      "-24.585714285714285\n",
      "28.848484848484848\n",
      "-47.58536585365854\n",
      "-390.875\n",
      "34.1764705882353\n",
      "85.84615384615384\n",
      "46.55384615384615\n",
      "-27.297619047619047\n",
      "35.688311688311686\n",
      "-22.610169491525422\n",
      "-73.49056603773585\n",
      "509.45454545454544\n",
      "1.4838709677419355\n",
      "8.142857142857142\n",
      "112.47619047619048\n",
      "73.0\n",
      "321.25\n",
      "211.28813559322035\n",
      "-120.72727272727273\n",
      "-0.6721311475409836\n",
      "-109.01886792452831\n",
      "-206.03030303030303\n",
      "55.16304347826087\n",
      "-117.76923076923077\n",
      "-11.5\n",
      "74.0\n",
      "128.95652173913044\n",
      "-73.46666666666667\n",
      "55.57142857142857\n",
      "108.63157894736842\n",
      "21.906976744186046\n",
      "-118.08602150537635\n",
      "35.62105263157895\n",
      "32.166666666666664\n",
      "-1.3571428571428572\n",
      "186.25\n",
      "32.183673469387756\n",
      "-67.63157894736842\n",
      "52.3448275862069\n",
      "-243.29787234042553\n",
      "228.16666666666666\n",
      "88.88235294117646\n",
      "27.511627906976745\n",
      "-62.65909090909091\n",
      "-3.0365853658536586\n",
      "149.8684210526316\n",
      "30.547619047619047\n",
      "28.36986301369863\n",
      "-52.666666666666664\n",
      "-144.63829787234042\n",
      "-38.4054054054054\n",
      "39.71739130434783\n",
      "-11.868686868686869\n",
      "21.18\n",
      "-35.51546391752577\n",
      "118.64406779661017\n",
      "26.120481927710845\n",
      "166.51282051282053\n",
      "-5.676923076923077\n",
      "-14.733333333333333\n",
      "7.323076923076923\n",
      "-13.655913978494624\n",
      "-40.22727272727273\n",
      "-44.46\n",
      "-77.85\n",
      "-28.87142857142857\n",
      "-55.03333333333333\n",
      "11.087719298245615\n",
      "90.67368421052632\n",
      "77.94827586206897\n",
      "-57.5\n",
      "114.57142857142857\n",
      "-68.32051282051282\n",
      "124.95744680851064\n",
      "58.41891891891892\n",
      "-25.5531914893617\n",
      "51.5\n",
      "100.50537634408602\n",
      "28.137931034482758\n",
      "180.6875\n",
      "105.13333333333334\n",
      "82.18947368421053\n",
      "111.32786885245902\n",
      "185.72727272727272\n",
      "69.24175824175825\n",
      "73.37037037037037\n",
      "-1.85\n",
      "-285.5\n",
      "21.564102564102566\n",
      "-69.06666666666666\n",
      "-19.74468085106383\n",
      "-30.21212121212121\n",
      "52.1764705882353\n",
      "-39.83529411764706\n",
      "-10.3125\n",
      "-239.38095238095238\n",
      "-35.34285714285714\n"
     ]
    }
   ],
   "source": [
    "# This will test your function \n",
    "test_stdev(st_dev)"
   ]
  },
  {
   "cell_type": "markdown",
   "metadata": {},
   "source": [
    "## 10. Write a function to check if a string is a pangram, i.e.: if it contains all the letters of the alphabet at least once. Mind that the strings may contain characters that are not letters."
   ]
  },
  {
   "cell_type": "code",
   "execution_count": 103,
   "metadata": {},
   "outputs": [],
   "source": [
    "def pangram(string):\n",
    "\n",
    "    test=True\n",
    "\n",
    "    alphabet = \"abcdefghijklmnopqrstuvwxyz\"\n",
    "    for char in alphabet:\n",
    "        if char not in string.lower():\n",
    "            test=False\n",
    "    \n",
    "    return test\n",
    "\n"
   ]
  },
  {
   "cell_type": "code",
   "execution_count": 104,
   "metadata": {},
   "outputs": [
    {
     "name": "stderr",
     "output_type": "stream",
     "text": [
      "..............................\n",
      "----------------------------------------------------------------------\n",
      "Ran 30 tests in 0.028s\n",
      "\n",
      "OK\n"
     ]
    }
   ],
   "source": [
    "# This will test your function \n",
    "test_pangram(pangram)"
   ]
  },
  {
   "cell_type": "markdown",
   "metadata": {},
   "source": [
    "## 11. Write a function that receives a string of comma separated words and returns a string of comma separated words sorted alphabetically.\n",
    "\n",
    "`NOTE: You may use sorted but not split and definitely no join! 🤪`"
   ]
  },
  {
   "cell_type": "code",
   "execution_count": 105,
   "metadata": {},
   "outputs": [],
   "source": [
    "def sort_alpha(items):\n",
    "\n",
    "   \n",
    "    sec=0\n",
    "    sec=sec\n",
    "    i=0\n",
    "    j=0\n",
    "    sentence=''\n",
    "\n",
    "\n",
    "    list=[]\n",
    "\n",
    "    for word in items:\n",
    "        if word == ',':\n",
    "\n",
    "            string= items[j:i]\n",
    "\n",
    "            list.append(string) \n",
    "\n",
    "            sec=j\n",
    "\n",
    "            \n",
    "            j=i+1\n",
    "        i+=1\n",
    "\n",
    "    string= items[j:]\n",
    "    list.append(string) \n",
    "\n",
    "    list.sort()\n",
    "\n",
    "    i=0\n",
    "\n",
    "    for word in list:\n",
    "\n",
    "        i+=1\n",
    "\n",
    "        if i==len(list):\n",
    "            sentence = sentence + str(word)\n",
    "        else:\n",
    "            sentence = sentence + str(word) + \",\"\n",
    "\n",
    "    return sentence"
   ]
  },
  {
   "cell_type": "code",
   "execution_count": 106,
   "metadata": {},
   "outputs": [
    {
     "name": "stderr",
     "output_type": "stream",
     "text": [
      "....................................................................................................\n",
      "----------------------------------------------------------------------\n",
      "Ran 100 tests in 0.096s\n",
      "\n",
      "OK\n"
     ]
    }
   ],
   "source": [
    "# This will test your function \n",
    "test_alpha(sort_alpha)"
   ]
  },
  {
   "cell_type": "markdown",
   "metadata": {},
   "source": [
    "## 12. Write a function to check if a given password is strong (at least 8 characters, at least one lower case, at least one upper case, at least one number and at least one special character). It should output True if strong and False if not.\n",
    "`Valid special characters: # @ ! $ % & ( ) ^ * [ ] { }`"
   ]
  },
  {
   "cell_type": "code",
   "execution_count": 79,
   "metadata": {},
   "outputs": [],
   "source": [
    "def check_pass(string):\n",
    "\n",
    "    alphabet_lower = \"abcdefghijklmnopqrstuvwxyz\"\n",
    "    alphabet_upper = \"ABCDEFGHIJKLMNOPQRSTUVWXYZ\"\n",
    "    special= '#@!{$%&()^*[]}'\n",
    "    number='0123456789'\n",
    "\n",
    "    test=False\n",
    "    test1=False\n",
    "    test2=False\n",
    "    test3=False\n",
    "    test4=False\n",
    "    test5=False\n",
    "\n",
    "    for char in alphabet_lower:\n",
    "        if char in string:\n",
    "         test1=True\n",
    "\n",
    "    for char in alphabet_upper:\n",
    "        if char in string:\n",
    "            test2=True\n",
    "\n",
    "    for char in special:\n",
    "        if char in string:\n",
    "            test3=True\n",
    "\n",
    "    for char in number:\n",
    "        if char in string:\n",
    "            test4=True\n",
    "\n",
    "    if len(string)>7:\n",
    "        test5=True\n",
    "\n",
    "    if test1==True and test2==True and test3==True and test4==True and test5==True:\n",
    "        test=True\n",
    "    return test\n"
   ]
  },
  {
   "cell_type": "code",
   "execution_count": 80,
   "metadata": {},
   "outputs": [
    {
     "name": "stderr",
     "output_type": "stream",
     "text": [
      "....................................................................................................\n",
      "----------------------------------------------------------------------\n",
      "Ran 100 tests in 0.107s\n",
      "\n",
      "OK\n"
     ]
    }
   ],
   "source": [
    "# This will test your function \n",
    "test_pass(check_pass)"
   ]
  }
 ],
 "metadata": {
  "kernelspec": {
   "display_name": "Python 3.9.12 ('base')",
   "language": "python",
   "name": "python3"
  },
  "language_info": {
   "codemirror_mode": {
    "name": "ipython",
    "version": 3
   },
   "file_extension": ".py",
   "mimetype": "text/x-python",
   "name": "python",
   "nbconvert_exporter": "python",
   "pygments_lexer": "ipython3",
   "version": "3.9.12"
  },
  "toc": {
   "base_numbering": 1,
   "nav_menu": {},
   "number_sections": true,
   "sideBar": true,
   "skip_h1_title": false,
   "title_cell": "Table of Contents",
   "title_sidebar": "Contents",
   "toc_cell": true,
   "toc_position": {},
   "toc_section_display": true,
   "toc_window_display": false
  },
  "varInspector": {
   "cols": {
    "lenName": 16,
    "lenType": 16,
    "lenVar": 40
   },
   "kernels_config": {
    "python": {
     "delete_cmd_postfix": "",
     "delete_cmd_prefix": "del ",
     "library": "var_list.py",
     "varRefreshCmd": "print(var_dic_list())"
    },
    "r": {
     "delete_cmd_postfix": ") ",
     "delete_cmd_prefix": "rm(",
     "library": "var_list.r",
     "varRefreshCmd": "cat(var_dic_list()) "
    }
   },
   "types_to_exclude": [
    "module",
    "function",
    "builtin_function_or_method",
    "instance",
    "_Feature"
   ],
   "window_display": false
  },
  "vscode": {
   "interpreter": {
    "hash": "ad2bdc8ecc057115af97d19610ffacc2b4e99fae6737bb82f5d7fb13d2f2c186"
   }
  }
 },
 "nbformat": 4,
 "nbformat_minor": 4
}
